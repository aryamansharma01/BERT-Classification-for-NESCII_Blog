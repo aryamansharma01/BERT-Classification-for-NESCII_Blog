{
 "cells": [
  {
   "cell_type": "code",
   "execution_count": 1,
   "id": "international-relation",
   "metadata": {
    "_cell_guid": "b1076dfc-b9ad-4769-8c92-a6c4dae69d19",
    "_uuid": "8f2839f25d086af736a60e9eeb907d3b93b6e0e5",
    "execution": {
     "iopub.execute_input": "2021-06-26T10:50:09.244171Z",
     "iopub.status.busy": "2021-06-26T10:50:09.243679Z",
     "iopub.status.idle": "2021-06-26T10:50:09.247067Z",
     "shell.execute_reply": "2021-06-26T10:50:09.247460Z",
     "shell.execute_reply.started": "2021-06-26T08:09:23.653953Z"
    },
    "papermill": {
     "duration": 0.032719,
     "end_time": "2021-06-26T10:50:09.247664",
     "exception": false,
     "start_time": "2021-06-26T10:50:09.214945",
     "status": "completed"
    },
    "tags": []
   },
   "outputs": [],
   "source": [
    "#Import libraries\n",
    "\n",
    "import pandas as pd\n",
    "import numpy as np"
   ]
  },
  {
   "cell_type": "code",
   "execution_count": 2,
   "id": "palestinian-river",
   "metadata": {
    "execution": {
     "iopub.execute_input": "2021-06-26T10:50:09.298796Z",
     "iopub.status.busy": "2021-06-26T10:50:09.298292Z",
     "iopub.status.idle": "2021-06-26T10:50:11.394713Z",
     "shell.execute_reply": "2021-06-26T10:50:11.394164Z",
     "shell.execute_reply.started": "2021-06-26T08:09:23.67636Z"
    },
    "papermill": {
     "duration": 2.128764,
     "end_time": "2021-06-26T10:50:11.394840",
     "exception": false,
     "start_time": "2021-06-26T10:50:09.266076",
     "status": "completed"
    },
    "tags": []
   },
   "outputs": [],
   "source": [
    "import pandas as pd \n",
    "data=pd.read_csv('../input/bertblogdatacsv/data.csv')\n",
    "data.drop(data[data['label']=='ar'].index,inplace=True)\n",
    "data.drop(data[data['label']=='r'].index,inplace=True)"
   ]
  },
  {
   "cell_type": "code",
   "execution_count": 3,
   "id": "accurate-found",
   "metadata": {
    "execution": {
     "iopub.execute_input": "2021-06-26T10:50:11.439093Z",
     "iopub.status.busy": "2021-06-26T10:50:11.438276Z",
     "iopub.status.idle": "2021-06-26T10:50:11.442336Z",
     "shell.execute_reply": "2021-06-26T10:50:11.442787Z",
     "shell.execute_reply.started": "2021-06-26T08:09:25.473926Z"
    },
    "papermill": {
     "duration": 0.029244,
     "end_time": "2021-06-26T10:50:11.442927",
     "exception": false,
     "start_time": "2021-06-26T10:50:11.413683",
     "status": "completed"
    },
    "tags": []
   },
   "outputs": [
    {
     "data": {
      "text/plain": [
       "(13299, 3)"
      ]
     },
     "execution_count": 3,
     "metadata": {},
     "output_type": "execute_result"
    }
   ],
   "source": [
    "data.shape"
   ]
  },
  {
   "cell_type": "code",
   "execution_count": 4,
   "id": "assigned-instrumentation",
   "metadata": {
    "execution": {
     "iopub.execute_input": "2021-06-26T10:50:11.494673Z",
     "iopub.status.busy": "2021-06-26T10:50:11.491144Z",
     "iopub.status.idle": "2021-06-26T10:50:11.520615Z",
     "shell.execute_reply": "2021-06-26T10:50:11.521313Z",
     "shell.execute_reply.started": "2021-06-26T08:09:25.486631Z"
    },
    "papermill": {
     "duration": 0.059144,
     "end_time": "2021-06-26T10:50:11.521455",
     "exception": false,
     "start_time": "2021-06-26T10:50:11.462311",
     "status": "completed"
    },
    "tags": []
   },
   "outputs": [
    {
     "data": {
      "text/plain": [
       "title    573\n",
       "text       0\n",
       "label      0\n",
       "dtype: int64"
      ]
     },
     "execution_count": 4,
     "metadata": {},
     "output_type": "execute_result"
    }
   ],
   "source": [
    "data.replace([\"NaN\",\"[]\"], np.nan, inplace = True)\n",
    "data.dropna(subset=['text'], how='any', inplace=True)\n",
    "\n",
    "data = data.reset_index(drop=True)\n",
    "\n",
    "data.isnull().sum()"
   ]
  },
  {
   "cell_type": "code",
   "execution_count": 5,
   "id": "confidential-burner",
   "metadata": {
    "execution": {
     "iopub.execute_input": "2021-06-26T10:50:11.571568Z",
     "iopub.status.busy": "2021-06-26T10:50:11.570837Z",
     "iopub.status.idle": "2021-06-26T10:50:12.501308Z",
     "shell.execute_reply": "2021-06-26T10:50:12.501745Z",
     "shell.execute_reply.started": "2021-06-26T08:09:25.530796Z"
    },
    "papermill": {
     "duration": 0.961169,
     "end_time": "2021-06-26T10:50:12.501904",
     "exception": false,
     "start_time": "2021-06-26T10:50:11.540735",
     "status": "completed"
    },
    "tags": []
   },
   "outputs": [
    {
     "data": {
      "text/html": [
       "<div>\n",
       "<style scoped>\n",
       "    .dataframe tbody tr th:only-of-type {\n",
       "        vertical-align: middle;\n",
       "    }\n",
       "\n",
       "    .dataframe tbody tr th {\n",
       "        vertical-align: top;\n",
       "    }\n",
       "\n",
       "    .dataframe thead th {\n",
       "        text-align: right;\n",
       "    }\n",
       "</style>\n",
       "<table border=\"1\" class=\"dataframe\">\n",
       "  <thead>\n",
       "    <tr style=\"text-align: right;\">\n",
       "      <th></th>\n",
       "      <th>Total</th>\n",
       "      <th>Percent</th>\n",
       "    </tr>\n",
       "  </thead>\n",
       "  <tbody>\n",
       "    <tr>\n",
       "      <th>title</th>\n",
       "      <td>573</td>\n",
       "      <td>0.043102</td>\n",
       "    </tr>\n",
       "    <tr>\n",
       "      <th>label</th>\n",
       "      <td>0</td>\n",
       "      <td>0.000000</td>\n",
       "    </tr>\n",
       "    <tr>\n",
       "      <th>text</th>\n",
       "      <td>0</td>\n",
       "      <td>0.000000</td>\n",
       "    </tr>\n",
       "  </tbody>\n",
       "</table>\n",
       "</div>"
      ],
      "text/plain": [
       "       Total   Percent\n",
       "title    573  0.043102\n",
       "label      0  0.000000\n",
       "text       0  0.000000"
      ]
     },
     "execution_count": 5,
     "metadata": {},
     "output_type": "execute_result"
    },
    {
     "data": {
      "image/png": "[encoded data removed]",
      "text/plain": [
       "<Figure size 1080x432 with 1 Axes>"
      ]
     },
     "metadata": {
      "needs_background": "light"
     },
     "output_type": "display_data"
    }
   ],
   "source": [
    "#Visualize the proportion of missing values\n",
    "\n",
    "import matplotlib.pyplot as plt\n",
    "import seaborn as sns\n",
    "%matplotlib inline\n",
    "\n",
    "total = data.isnull().sum().sort_values(ascending=False)\n",
    "percent = (data.isnull().sum()/data.isnull().count()).sort_values(ascending=False)\n",
    "missing_data = pd.concat([total, percent], axis=1, keys=['Total', 'Percent'])\n",
    "\n",
    "f, ax = plt.subplots(figsize=(15, 6))\n",
    "plt.xticks(rotation='90')\n",
    "\n",
    "sns.barplot(x=missing_data.index, y=missing_data['Percent'])\n",
    "\n",
    "plt.xlabel('Features', fontsize=15)\n",
    "plt.ylabel('Percent of missing values', fontsize=15)\n",
    "plt.title('Percent missing data by feature', fontsize=15)\n",
    "\n",
    "missing_data.head()"
   ]
  },
  {
   "cell_type": "code",
   "execution_count": 6,
   "id": "formal-sleeve",
   "metadata": {
    "execution": {
     "iopub.execute_input": "2021-06-26T10:50:12.554135Z",
     "iopub.status.busy": "2021-06-26T10:50:12.553616Z",
     "iopub.status.idle": "2021-06-26T10:50:12.557498Z",
     "shell.execute_reply": "2021-06-26T10:50:12.556995Z",
     "shell.execute_reply.started": "2021-06-26T08:09:26.70961Z"
    },
    "papermill": {
     "duration": 0.033213,
     "end_time": "2021-06-26T10:50:12.557598",
     "exception": false,
     "start_time": "2021-06-26T10:50:12.524385",
     "status": "completed"
    },
    "tags": []
   },
   "outputs": [],
   "source": [
    "target = data.label\n",
    "labels = []\n",
    "for item in target:\n",
    "    if item not in labels:\n",
    "          labels.append(item) \n",
    "    else:\n",
    "            continue"
   ]
  },
  {
   "cell_type": "code",
   "execution_count": 7,
   "id": "secure-balance",
   "metadata": {
    "execution": {
     "iopub.execute_input": "2021-06-26T10:50:12.601333Z",
     "iopub.status.busy": "2021-06-26T10:50:12.600563Z",
     "iopub.status.idle": "2021-06-26T10:50:12.605824Z",
     "shell.execute_reply": "2021-06-26T10:50:12.606534Z",
     "shell.execute_reply.started": "2021-06-26T08:09:26.745384Z"
    },
    "papermill": {
     "duration": 0.028946,
     "end_time": "2021-06-26T10:50:12.606697",
     "exception": false,
     "start_time": "2021-06-26T10:50:12.577751",
     "status": "completed"
    },
    "tags": []
   },
   "outputs": [
    {
     "name": "stdout",
     "output_type": "stream",
     "text": [
      "48\n"
     ]
    }
   ],
   "source": [
    "num_labels = len(labels)\n",
    "print(num_labels)"
   ]
  },
  {
   "cell_type": "code",
   "execution_count": 8,
   "id": "clean-polls",
   "metadata": {
    "execution": {
     "iopub.execute_input": "2021-06-26T10:50:12.651729Z",
     "iopub.status.busy": "2021-06-26T10:50:12.651154Z",
     "iopub.status.idle": "2021-06-26T10:50:12.655503Z",
     "shell.execute_reply": "2021-06-26T10:50:12.655882Z",
     "shell.execute_reply.started": "2021-06-26T08:09:26.760877Z"
    },
    "papermill": {
     "duration": 0.02853,
     "end_time": "2021-06-26T10:50:12.656001",
     "exception": false,
     "start_time": "2021-06-26T10:50:12.627471",
     "status": "completed"
    },
    "tags": []
   },
   "outputs": [
    {
     "name": "stdout",
     "output_type": "stream",
     "text": [
      "['app-development', 'apple', 'chemistry', 'edge-computing', 'blockchain', 'competitive-programming', 'cloud-computing', 'cyber-security', 'communication', 'computer-science', 'economics', 'artificial-intelligence', 'data-science', 'business', 'electronics', 'electrical', 'engineering-design', 'entrepreneurship', 'gaming', 'git', 'gitHub', 'google', 'graphic-design', 'history', 'internships', 'interview', 'iot', 'linguistics', 'literature', 'logic-design', 'machine-learning', 'management', 'marketing', 'mathematics', 'mechanical', 'mental-illness', 'operating-systems', 'physics', 'placement', 'political-science', 'reinforcement-learning', 'robotics', 'software', 'stock-exchange', 'vr', 'web-development', 'bitcoin', 'education']\n"
     ]
    }
   ],
   "source": [
    "print(labels)"
   ]
  },
  {
   "cell_type": "code",
   "execution_count": 9,
   "id": "fatal-jamaica",
   "metadata": {
    "execution": {
     "iopub.execute_input": "2021-06-26T10:50:12.717993Z",
     "iopub.status.busy": "2021-06-26T10:50:12.716128Z",
     "iopub.status.idle": "2021-06-26T10:50:12.728918Z",
     "shell.execute_reply": "2021-06-26T10:50:12.728467Z",
     "shell.execute_reply.started": "2021-06-26T08:09:26.775923Z"
    },
    "papermill": {
     "duration": 0.051977,
     "end_time": "2021-06-26T10:50:12.729020",
     "exception": false,
     "start_time": "2021-06-26T10:50:12.677043",
     "status": "completed"
    },
    "tags": []
   },
   "outputs": [
    {
     "data": {
      "text/plain": [
       "(13294, 51)"
      ]
     },
     "execution_count": 9,
     "metadata": {},
     "output_type": "execute_result"
    }
   ],
   "source": [
    "for l in labels:\n",
    "    data[l]=0\n",
    "\n",
    "data.shape"
   ]
  },
  {
   "cell_type": "code",
   "execution_count": 10,
   "id": "senior-alabama",
   "metadata": {
    "execution": {
     "iopub.execute_input": "2021-06-26T10:50:12.776787Z",
     "iopub.status.busy": "2021-06-26T10:50:12.776015Z",
     "iopub.status.idle": "2021-06-26T10:50:16.997570Z",
     "shell.execute_reply": "2021-06-26T10:50:16.997059Z",
     "shell.execute_reply.started": "2021-06-26T08:09:26.820968Z"
    },
    "papermill": {
     "duration": 4.247293,
     "end_time": "2021-06-26T10:50:16.997701",
     "exception": false,
     "start_time": "2021-06-26T10:50:12.750408",
     "status": "completed"
    },
    "tags": []
   },
   "outputs": [],
   "source": [
    "for index, row in data.iterrows():\n",
    "    for lx in labels:\n",
    "        if lx in row['label']:\n",
    "            data.at[index, lx] = 1"
   ]
  },
  {
   "cell_type": "code",
   "execution_count": 11,
   "id": "imported-logging",
   "metadata": {
    "execution": {
     "iopub.execute_input": "2021-06-26T10:50:17.046863Z",
     "iopub.status.busy": "2021-06-26T10:50:17.046128Z",
     "iopub.status.idle": "2021-06-26T10:51:13.512694Z",
     "shell.execute_reply": "2021-06-26T10:51:13.513144Z",
     "shell.execute_reply.started": "2021-06-26T08:09:31.430174Z"
    },
    "papermill": {
     "duration": 56.492823,
     "end_time": "2021-06-26T10:51:13.513334",
     "exception": false,
     "start_time": "2021-06-26T10:50:17.020511",
     "status": "completed"
    },
    "tags": []
   },
   "outputs": [
    {
     "name": "stdout",
     "output_type": "stream",
     "text": [
      "Collecting pytorch_pretrained_bert\r\n",
      "  Downloading pytorch_pretrained_bert-0.6.2-py3-none-any.whl (123 kB)\r\n",
      "\u001b[K     |████████████████████████████████| 123 kB 421 kB/s \r\n",
      "\u001b[?25hRequirement already satisfied: torch>=0.4.1 in /opt/conda/lib/python3.7/site-packages (from pytorch_pretrained_bert) (1.7.0)\r\n",
      "Requirement already satisfied: boto3 in /opt/conda/lib/python3.7/site-packages (from pytorch_pretrained_bert) (1.17.53)\r\n",
      "Requirement already satisfied: numpy in /opt/conda/lib/python3.7/site-packages (from pytorch_pretrained_bert) (1.19.5)\r\n",
      "Requirement already satisfied: requests in /opt/conda/lib/python3.7/site-packages (from pytorch_pretrained_bert) (2.25.1)\r\n",
      "Requirement already satisfied: regex in /opt/conda/lib/python3.7/site-packages (from pytorch_pretrained_bert) (2021.3.17)\r\n",
      "Requirement already satisfied: tqdm in /opt/conda/lib/python3.7/site-packages (from pytorch_pretrained_bert) (4.59.0)\r\n",
      "Requirement already satisfied: future in /opt/conda/lib/python3.7/site-packages (from torch>=0.4.1->pytorch_pretrained_bert) (0.18.2)\r\n",
      "Requirement already satisfied: typing_extensions in /opt/conda/lib/python3.7/site-packages (from torch>=0.4.1->pytorch_pretrained_bert) (3.7.4.3)\r\n",
      "Requirement already satisfied: dataclasses in /opt/conda/lib/python3.7/site-packages (from torch>=0.4.1->pytorch_pretrained_bert) (0.6)\r\n",
      "Requirement already satisfied: botocore<1.21.0,>=1.20.53 in /opt/conda/lib/python3.7/site-packages (from boto3->pytorch_pretrained_bert) (1.20.53)\r\n",
      "Requirement already satisfied: s3transfer<0.4.0,>=0.3.0 in /opt/conda/lib/python3.7/site-packages (from boto3->pytorch_pretrained_bert) (0.3.7)\r\n",
      "Requirement already satisfied: jmespath<1.0.0,>=0.7.1 in /opt/conda/lib/python3.7/site-packages (from boto3->pytorch_pretrained_bert) (0.10.0)\r\n",
      "Requirement already satisfied: python-dateutil<3.0.0,>=2.1 in /opt/conda/lib/python3.7/site-packages (from botocore<1.21.0,>=1.20.53->boto3->pytorch_pretrained_bert) (2.8.1)\r\n",
      "Requirement already satisfied: urllib3<1.27,>=1.25.4 in /opt/conda/lib/python3.7/site-packages (from botocore<1.21.0,>=1.20.53->boto3->pytorch_pretrained_bert) (1.26.4)\r\n",
      "Requirement already satisfied: six>=1.5 in /opt/conda/lib/python3.7/site-packages (from python-dateutil<3.0.0,>=2.1->botocore<1.21.0,>=1.20.53->boto3->pytorch_pretrained_bert) (1.15.0)\r\n",
      "Requirement already satisfied: idna<3,>=2.5 in /opt/conda/lib/python3.7/site-packages (from requests->pytorch_pretrained_bert) (2.10)\r\n",
      "Requirement already satisfied: chardet<5,>=3.0.2 in /opt/conda/lib/python3.7/site-packages (from requests->pytorch_pretrained_bert) (4.0.0)\r\n",
      "Requirement already satisfied: certifi>=2017.4.17 in /opt/conda/lib/python3.7/site-packages (from requests->pytorch_pretrained_bert) (2020.12.5)\r\n",
      "Installing collected packages: pytorch-pretrained-bert\r\n",
      "Successfully installed pytorch-pretrained-bert-0.6.2\r\n",
      "Collecting https://github.com/fastai/fastai1/archive/master.zip\r\n",
      "  Downloading https://github.com/fastai/fastai1/archive/master.zip\r\n",
      "\u001b[K     | 132.1 MB 1.1 MB/s\r\n",
      "\u001b[?25hCollecting bottleneck\r\n",
      "  Downloading Bottleneck-1.3.2.tar.gz (88 kB)\r\n",
      "\u001b[K     |████████████████████████████████| 88 kB 363 kB/s \r\n",
      "\u001b[?25h  Installing build dependencies ... \u001b[?25l-\b \b\\\b \b|\b \b/\b \b-\b \b\\\b \b|\b \b/\b \b-\b \bdone\r\n",
      "\u001b[?25h  Getting requirements to build wheel ... \u001b[?25ldone\r\n",
      "\u001b[?25h    Preparing wheel metadata ... \u001b[?25l-\b \bdone\r\n",
      "\u001b[?25hRequirement already satisfied: fastprogress>=0.2.1 in /opt/conda/lib/python3.7/site-packages (from fastai==1.0.64.dev0) (1.0.0)\r\n",
      "Collecting beautifulsoup4\r\n",
      "  Downloading beautifulsoup4-4.9.3-py3-none-any.whl (115 kB)\r\n",
      "\u001b[K     |████████████████████████████████| 115 kB 1.3 MB/s \r\n",
      "\u001b[?25hRequirement already satisfied: matplotlib in /opt/conda/lib/python3.7/site-packages (from fastai==1.0.64.dev0) (3.4.1)\r\n",
      "Requirement already satisfied: numexpr in /opt/conda/lib/python3.7/site-packages (from fastai==1.0.64.dev0) (2.7.3)\r\n",
      "Requirement already satisfied: numpy>=1.15 in /opt/conda/lib/python3.7/site-packages (from fastai==1.0.64.dev0) (1.19.5)\r\n",
      "Requirement already satisfied: nvidia-ml-py3 in /opt/conda/lib/python3.7/site-packages (from fastai==1.0.64.dev0) (7.352.0)\r\n",
      "Requirement already satisfied: pandas in /opt/conda/lib/python3.7/site-packages (from fastai==1.0.64.dev0) (1.1.5)\r\n",
      "Requirement already satisfied: packaging in /opt/conda/lib/python3.7/site-packages (from fastai==1.0.64.dev0) (20.9)\r\n",
      "Requirement already satisfied: Pillow in /opt/conda/lib/python3.7/site-packages (from fastai==1.0.64.dev0) (7.2.0)\r\n",
      "Requirement already satisfied: pyyaml in /opt/conda/lib/python3.7/site-packages (from fastai==1.0.64.dev0) (5.3.1)\r\n",
      "Requirement already satisfied: requests in /opt/conda/lib/python3.7/site-packages (from fastai==1.0.64.dev0) (2.25.1)\r\n",
      "Requirement already satisfied: scipy in /opt/conda/lib/python3.7/site-packages (from fastai==1.0.64.dev0) (1.5.4)\r\n",
      "Requirement already satisfied: torch>=1.0.0 in /opt/conda/lib/python3.7/site-packages (from fastai==1.0.64.dev0) (1.7.0)\r\n",
      "Requirement already satisfied: torchvision in /opt/conda/lib/python3.7/site-packages (from fastai==1.0.64.dev0) (0.8.1)\r\n",
      "Requirement already satisfied: spacy>=2.0.18 in /opt/conda/lib/python3.7/site-packages (from fastai==1.0.64.dev0) (2.3.5)\r\n",
      "Requirement already satisfied: thinc<7.5.0,>=7.4.1 in /opt/conda/lib/python3.7/site-packages (from spacy>=2.0.18->fastai==1.0.64.dev0) (7.4.5)\r\n",
      "Requirement already satisfied: preshed<3.1.0,>=3.0.2 in /opt/conda/lib/python3.7/site-packages (from spacy>=2.0.18->fastai==1.0.64.dev0) (3.0.5)\r\n",
      "Requirement already satisfied: setuptools in /opt/conda/lib/python3.7/site-packages (from spacy>=2.0.18->fastai==1.0.64.dev0) (49.6.0.post20210108)\r\n",
      "Requirement already satisfied: plac<1.2.0,>=0.9.6 in /opt/conda/lib/python3.7/site-packages (from spacy>=2.0.18->fastai==1.0.64.dev0) (1.1.3)\r\n",
      "Requirement already satisfied: srsly<1.1.0,>=1.0.2 in /opt/conda/lib/python3.7/site-packages (from spacy>=2.0.18->fastai==1.0.64.dev0) (1.0.5)\r\n",
      "Requirement already satisfied: murmurhash<1.1.0,>=0.28.0 in /opt/conda/lib/python3.7/site-packages (from spacy>=2.0.18->fastai==1.0.64.dev0) (1.0.5)\r\n",
      "Requirement already satisfied: cymem<2.1.0,>=2.0.2 in /opt/conda/lib/python3.7/site-packages (from spacy>=2.0.18->fastai==1.0.64.dev0) (2.0.5)\r\n",
      "Requirement already satisfied: wasabi<1.1.0,>=0.4.0 in /opt/conda/lib/python3.7/site-packages (from spacy>=2.0.18->fastai==1.0.64.dev0) (0.8.2)\r\n",
      "Requirement already satisfied: catalogue<1.1.0,>=0.0.7 in /opt/conda/lib/python3.7/site-packages (from spacy>=2.0.18->fastai==1.0.64.dev0) (1.0.0)\r\n",
      "Requirement already satisfied: tqdm<5.0.0,>=4.38.0 in /opt/conda/lib/python3.7/site-packages (from spacy>=2.0.18->fastai==1.0.64.dev0) (4.59.0)\r\n",
      "Requirement already satisfied: blis<0.8.0,>=0.4.0 in /opt/conda/lib/python3.7/site-packages (from spacy>=2.0.18->fastai==1.0.64.dev0) (0.7.4)\r\n",
      "Requirement already satisfied: importlib-metadata>=0.20 in /opt/conda/lib/python3.7/site-packages (from catalogue<1.1.0,>=0.0.7->spacy>=2.0.18->fastai==1.0.64.dev0) (3.4.0)\r\n",
      "Requirement already satisfied: typing-extensions>=3.6.4 in /opt/conda/lib/python3.7/site-packages (from importlib-metadata>=0.20->catalogue<1.1.0,>=0.0.7->spacy>=2.0.18->fastai==1.0.64.dev0) (3.7.4.3)\r\n",
      "Requirement already satisfied: zipp>=0.5 in /opt/conda/lib/python3.7/site-packages (from importlib-metadata>=0.20->catalogue<1.1.0,>=0.0.7->spacy>=2.0.18->fastai==1.0.64.dev0) (3.4.1)\r\n",
      "Requirement already satisfied: certifi>=2017.4.17 in /opt/conda/lib/python3.7/site-packages (from requests->fastai==1.0.64.dev0) (2020.12.5)\r\n",
      "Requirement already satisfied: idna<3,>=2.5 in /opt/conda/lib/python3.7/site-packages (from requests->fastai==1.0.64.dev0) (2.10)\r\n",
      "Requirement already satisfied: urllib3<1.27,>=1.21.1 in /opt/conda/lib/python3.7/site-packages (from requests->fastai==1.0.64.dev0) (1.26.4)\r\n",
      "Requirement already satisfied: chardet<5,>=3.0.2 in /opt/conda/lib/python3.7/site-packages (from requests->fastai==1.0.64.dev0) (4.0.0)\r\n",
      "Requirement already satisfied: future in /opt/conda/lib/python3.7/site-packages (from torch>=1.0.0->fastai==1.0.64.dev0) (0.18.2)\r\n",
      "Requirement already satisfied: dataclasses in /opt/conda/lib/python3.7/site-packages (from torch>=1.0.0->fastai==1.0.64.dev0) (0.6)\r\n",
      "Collecting soupsieve>1.2\r\n",
      "  Downloading soupsieve-2.2.1-py3-none-any.whl (33 kB)\r\n",
      "Requirement already satisfied: kiwisolver>=1.0.1 in /opt/conda/lib/python3.7/site-packages (from matplotlib->fastai==1.0.64.dev0) (1.3.1)\r\n",
      "Requirement already satisfied: cycler>=0.10 in /opt/conda/lib/python3.7/site-packages (from matplotlib->fastai==1.0.64.dev0) (0.10.0)\r\n",
      "Requirement already satisfied: python-dateutil>=2.7 in /opt/conda/lib/python3.7/site-packages (from matplotlib->fastai==1.0.64.dev0) (2.8.1)\r\n",
      "Requirement already satisfied: pyparsing>=2.2.1 in /opt/conda/lib/python3.7/site-packages (from matplotlib->fastai==1.0.64.dev0) (2.4.7)\r\n",
      "Requirement already satisfied: six in /opt/conda/lib/python3.7/site-packages (from cycler>=0.10->matplotlib->fastai==1.0.64.dev0) (1.15.0)\r\n",
      "Requirement already satisfied: pytz>=2017.2 in /opt/conda/lib/python3.7/site-packages (from pandas->fastai==1.0.64.dev0) (2021.1)\r\n",
      "Building wheels for collected packages: fastai, bottleneck\r\n",
      "  Building wheel for fastai (setup.py) ... \u001b[?25l-\b \b\\\b \b|\b \bdone\r\n",
      "\u001b[?25h  Created wheel for fastai: filename=fastai-1.0.64.dev0-py3-none-any.whl size=241880 sha256=3ae0a4f7a6f8e4e0f9b866b30742f917c1308ea997692eceb9a334eccec1f2fb\r\n",
      "  Stored in directory: /tmp/pip-ephem-wheel-cache-_wlanq3g/wheels/a9/1d/67/48a06642ed4ac8db07b364643d67755fc669efb970b683daa9\r\n",
      "  Building wheel for bottleneck (PEP 517) ... \u001b[?25l-\b \b\\\b \b|\b \b/\b \b-\b \b\\\b \b|\b \b/\b \bdone\r\n",
      "\u001b[?25h  Created wheel for bottleneck: filename=Bottleneck-1.3.2-cp37-cp37m-linux_x86_64.whl size=334946 sha256=7f5cf952777e5dcd4226dc5cfbb5551531346be309999b8fa16b560453e7b6e2\r\n",
      "  Stored in directory: /root/.cache/pip/wheels/87/85/9c/a325c89ff0498660ef8a335fb4b3912939c273ea4f094af29f\r\n",
      "Successfully built fastai bottleneck\r\n",
      "Installing collected packages: soupsieve, bottleneck, beautifulsoup4, fastai\r\n",
      "  Attempting uninstall: fastai\r\n",
      "    Found existing installation: fastai 2.3.0\r\n",
      "    Uninstalling fastai-2.3.0:\r\n",
      "      Successfully uninstalled fastai-2.3.0\r\n",
      "Successfully installed beautifulsoup4-4.9.3 bottleneck-1.3.2 fastai-1.0.64.dev0 soupsieve-2.2.1\r\n"
     ]
    }
   ],
   "source": [
    "#Install bert and fastai\n",
    "\n",
    "!pip install pytorch_pretrained_bert\n",
    "\n",
    "!pip install https://github.com/fastai/fastai1/archive/master.zip"
   ]
  },
  {
   "cell_type": "code",
   "execution_count": 12,
   "id": "serious-delaware",
   "metadata": {
    "execution": {
     "iopub.execute_input": "2021-06-26T10:51:13.690003Z",
     "iopub.status.busy": "2021-06-26T10:51:13.689255Z",
     "iopub.status.idle": "2021-06-26T10:51:17.019754Z",
     "shell.execute_reply": "2021-06-26T10:51:17.019295Z",
     "shell.execute_reply.started": "2021-06-26T08:10:17.262807Z"
    },
    "papermill": {
     "duration": 3.420711,
     "end_time": "2021-06-26T10:51:17.019891",
     "exception": false,
     "start_time": "2021-06-26T10:51:13.599180",
     "status": "completed"
    },
    "tags": []
   },
   "outputs": [],
   "source": [
    "#Import libraries\n",
    "\n",
    "from pathlib import Path\n",
    "from typing import *\n",
    "\n",
    "import torch\n",
    "import torch.optim as optim\n",
    "\n",
    "from fastai import *\n",
    "from fastai.vision import *\n",
    "from fastai.text import *\n",
    "from fastai.callbacks import *\n",
    "from fastai.callbacks import SaveModelCallback"
   ]
  },
  {
   "cell_type": "code",
   "execution_count": 13,
   "id": "prime-aggregate",
   "metadata": {
    "execution": {
     "iopub.execute_input": "2021-06-26T10:51:17.195495Z",
     "iopub.status.busy": "2021-06-26T10:51:17.194702Z",
     "iopub.status.idle": "2021-06-26T10:51:17.197287Z",
     "shell.execute_reply": "2021-06-26T10:51:17.196878Z",
     "shell.execute_reply.started": "2021-06-26T08:10:21.186674Z"
    },
    "papermill": {
     "duration": 0.092508,
     "end_time": "2021-06-26T10:51:17.197404",
     "exception": false,
     "start_time": "2021-06-26T10:51:17.104896",
     "status": "completed"
    },
    "tags": []
   },
   "outputs": [],
   "source": [
    "#Define constants\n",
    "\n",
    "max_lr = 3e-5\n",
    "epochs = 4\n",
    "batch_size = 4\n",
    "max_seq_len = 512\n",
    "\n",
    "target_col = \"text\"\n",
    "bert_model_name = \"bert-base-uncased\"\n",
    "bert_model_path = \"https://s3.amazonaws.com/models.huggingface.co/bert/bert-base-uncased-vocab.txt\""
   ]
  },
  {
   "cell_type": "code",
   "execution_count": 14,
   "id": "ruled-sector",
   "metadata": {
    "execution": {
     "iopub.execute_input": "2021-06-26T10:51:17.369250Z",
     "iopub.status.busy": "2021-06-26T10:51:17.368428Z",
     "iopub.status.idle": "2021-06-26T10:51:20.092019Z",
     "shell.execute_reply": "2021-06-26T10:51:20.093056Z",
     "shell.execute_reply.started": "2021-06-26T08:10:21.193987Z"
    },
    "papermill": {
     "duration": 2.812459,
     "end_time": "2021-06-26T10:51:20.093269",
     "exception": false,
     "start_time": "2021-06-26T10:51:17.280810",
     "status": "completed"
    },
    "tags": []
   },
   "outputs": [
    {
     "name": "stderr",
     "output_type": "stream",
     "text": [
      "100%|██████████| 231508/231508 [00:00<00:00, 322696.24B/s]\n"
     ]
    }
   ],
   "source": [
    "#Download the pre-trained model\n",
    "\n",
    "from pytorch_pretrained_bert import BertTokenizer\n",
    "\n",
    "bert_tok = BertTokenizer.from_pretrained(bert_model_path)"
   ]
  },
  {
   "cell_type": "code",
   "execution_count": 15,
   "id": "respective-murder",
   "metadata": {
    "execution": {
     "iopub.execute_input": "2021-06-26T10:51:20.342079Z",
     "iopub.status.busy": "2021-06-26T10:51:20.341209Z",
     "iopub.status.idle": "2021-06-26T10:51:20.343306Z",
     "shell.execute_reply": "2021-06-26T10:51:20.343700Z",
     "shell.execute_reply.started": "2021-06-26T08:10:21.93263Z"
    },
    "papermill": {
     "duration": 0.093808,
     "end_time": "2021-06-26T10:51:20.343830",
     "exception": false,
     "start_time": "2021-06-26T10:51:20.250022",
     "status": "completed"
    },
    "tags": []
   },
   "outputs": [],
   "source": [
    "class FastAiBertTokenizer(BaseTokenizer):\n",
    "    def __init__(self, tokenizer: BertTokenizer, max_seq_len, **kwargs):\n",
    "        self._pretrained_tokenizer = tokenizer\n",
    "        self.max_seq_len = max_seq_len\n",
    "\n",
    "    def __call__(self, *args, **kwargs):\n",
    "        return self\n",
    "\n",
    "    def tokenizer(self, t:str) -> List[str]:\n",
    "        \n",
    "        # We need to add special tokens at the beginning and end of each sentence for BERT to work properly\n",
    "        return [\"[CLS]\"] + self._pretrained_tokenizer.tokenize(t)[:self.max_seq_len - 2] + [\"[SEP]\"]"
   ]
  },
  {
   "cell_type": "code",
   "execution_count": 16,
   "id": "historic-quilt",
   "metadata": {
    "execution": {
     "iopub.execute_input": "2021-06-26T10:51:20.518661Z",
     "iopub.status.busy": "2021-06-26T10:51:20.517922Z",
     "iopub.status.idle": "2021-06-26T10:51:20.520601Z",
     "shell.execute_reply": "2021-06-26T10:51:20.520152Z",
     "shell.execute_reply.started": "2021-06-26T08:10:21.943819Z"
    },
    "papermill": {
     "duration": 0.091456,
     "end_time": "2021-06-26T10:51:20.520713",
     "exception": false,
     "start_time": "2021-06-26T10:51:20.429257",
     "status": "completed"
    },
    "tags": []
   },
   "outputs": [],
   "source": [
    "fastai_tokenizer = Tokenizer(tok_func=FastAiBertTokenizer(bert_tok, \n",
    "                                                          max_seq_len=max_seq_len), \n",
    "                                                          pre_rules=[], \n",
    "                                                          post_rules=[])"
   ]
  },
  {
   "cell_type": "code",
   "execution_count": 17,
   "id": "failing-assignment",
   "metadata": {
    "execution": {
     "iopub.execute_input": "2021-06-26T10:51:20.704335Z",
     "iopub.status.busy": "2021-06-26T10:51:20.703539Z",
     "iopub.status.idle": "2021-06-26T10:51:20.705783Z",
     "shell.execute_reply": "2021-06-26T10:51:20.706244Z",
     "shell.execute_reply.started": "2021-06-26T08:10:21.952044Z"
    },
    "papermill": {
     "duration": 0.099953,
     "end_time": "2021-06-26T10:51:20.706410",
     "exception": false,
     "start_time": "2021-06-26T10:51:20.606457",
     "status": "completed"
    },
    "tags": []
   },
   "outputs": [],
   "source": [
    "#Construct a fastai Vocab object to use for preprocessing\n",
    "\n",
    "fastai_bert_vocab = Vocab(list(bert_tok.vocab.keys()))"
   ]
  },
  {
   "cell_type": "code",
   "execution_count": 18,
   "id": "handmade-penguin",
   "metadata": {
    "execution": {
     "iopub.execute_input": "2021-06-26T10:51:20.882179Z",
     "iopub.status.busy": "2021-06-26T10:51:20.881429Z",
     "iopub.status.idle": "2021-06-26T10:51:20.903022Z",
     "shell.execute_reply": "2021-06-26T10:51:20.902622Z",
     "shell.execute_reply.started": "2021-06-26T08:10:21.968053Z"
    },
    "papermill": {
     "duration": 0.11148,
     "end_time": "2021-06-26T10:51:20.903134",
     "exception": false,
     "start_time": "2021-06-26T10:51:20.791654",
     "status": "completed"
    },
    "tags": []
   },
   "outputs": [],
   "source": [
    "#Split the data into train and val\n",
    "\n",
    "from sklearn.model_selection import train_test_split\n",
    "\n",
    "train, val = train_test_split(data)"
   ]
  },
  {
   "cell_type": "code",
   "execution_count": 19,
   "id": "naughty-richmond",
   "metadata": {
    "execution": {
     "iopub.execute_input": "2021-06-26T10:51:21.088519Z",
     "iopub.status.busy": "2021-06-26T10:51:21.087612Z",
     "iopub.status.idle": "2021-06-26T10:56:42.566631Z",
     "shell.execute_reply": "2021-06-26T10:56:42.567164Z",
     "shell.execute_reply.started": "2021-06-26T08:10:22.001089Z"
    },
    "papermill": {
     "duration": 321.57804,
     "end_time": "2021-06-26T10:56:42.567335",
     "exception": false,
     "start_time": "2021-06-26T10:51:20.989295",
     "status": "completed"
    },
    "tags": []
   },
   "outputs": [
    {
     "data": {
      "text/html": [],
      "text/plain": [
       "<IPython.core.display.HTML object>"
      ]
     },
     "metadata": {},
     "output_type": "display_data"
    },
    {
     "name": "stderr",
     "output_type": "stream",
     "text": [
      "/opt/conda/lib/python3.7/site-packages/fastai/core.py:302: VisibleDeprecationWarning: Creating an ndarray from ragged nested sequences (which is a list-or-tuple of lists-or-tuples-or ndarrays with different lengths or shapes) is deprecated. If you meant to do this, you must specify 'dtype=object' when creating the ndarray\n",
      "  return np.array(a, dtype=dtype, **kwargs)\n"
     ]
    },
    {
     "data": {
      "text/html": [],
      "text/plain": [
       "<IPython.core.display.HTML object>"
      ]
     },
     "metadata": {},
     "output_type": "display_data"
    },
    {
     "name": "stderr",
     "output_type": "stream",
     "text": [
      "/opt/conda/lib/python3.7/site-packages/numpy/core/_asarray.py:83: VisibleDeprecationWarning: Creating an ndarray from ragged nested sequences (which is a list-or-tuple of lists-or-tuples-or ndarrays with different lengths or shapes) is deprecated. If you meant to do this, you must specify 'dtype=object' when creating the ndarray\n",
      "  return array(a, dtype, copy=False, order=order)\n",
      "<string>:6: VisibleDeprecationWarning: Creating an ndarray from ragged nested sequences (which is a list-or-tuple of lists-or-tuples-or ndarrays with different lengths or shapes) is deprecated. If you meant to do this, you must specify 'dtype=object' when creating the ndarray\n"
     ]
    }
   ],
   "source": [
    "databunch = TextDataBunch.from_df(\".\", train, val,\n",
    "                  tokenizer=fastai_tokenizer,\n",
    "                  vocab=fastai_bert_vocab,\n",
    "                  include_bos=False,\n",
    "                  include_eos=False,\n",
    "                  text_cols=target_col,\n",
    "                  label_cols=labels,\n",
    "                  bs=batch_size,\n",
    "                  collate_fn=partial(pad_collate, pad_first=False, pad_idx=0),\n",
    "             )"
   ]
  },
  {
   "cell_type": "code",
   "execution_count": 20,
   "id": "tender-criterion",
   "metadata": {
    "execution": {
     "iopub.execute_input": "2021-06-26T10:56:42.750128Z",
     "iopub.status.busy": "2021-06-26T10:56:42.749628Z",
     "iopub.status.idle": "2021-06-26T10:57:25.066019Z",
     "shell.execute_reply": "2021-06-26T10:57:25.065005Z",
     "shell.execute_reply.started": "2021-06-26T08:15:53.988936Z"
    },
    "papermill": {
     "duration": 42.41099,
     "end_time": "2021-06-26T10:57:25.066166",
     "exception": false,
     "start_time": "2021-06-26T10:56:42.655176",
     "status": "completed"
    },
    "tags": []
   },
   "outputs": [
    {
     "name": "stderr",
     "output_type": "stream",
     "text": [
      "100%|██████████| 407873900/407873900 [00:32<00:00, 12466683.08B/s]\n"
     ]
    }
   ],
   "source": [
    "from pytorch_pretrained_bert.modeling import BertConfig, BertForSequenceClassification\n",
    "\n",
    "bert_model = BertForSequenceClassification.from_pretrained(bert_model_name, num_labels = num_labels)\n",
    "\n",
    "#print(bert_model)"
   ]
  },
  {
   "cell_type": "code",
   "execution_count": 21,
   "id": "metric-quantity",
   "metadata": {
    "execution": {
     "iopub.execute_input": "2021-06-26T10:57:25.340397Z",
     "iopub.status.busy": "2021-06-26T10:57:25.338734Z",
     "iopub.status.idle": "2021-06-26T10:57:25.341036Z",
     "shell.execute_reply": "2021-06-26T10:57:25.341463Z",
     "shell.execute_reply.started": "2021-06-26T08:16:11.866868Z"
    },
    "papermill": {
     "duration": 0.14118,
     "end_time": "2021-06-26T10:57:25.341599",
     "exception": false,
     "start_time": "2021-06-26T10:57:25.200419",
     "status": "completed"
    },
    "tags": []
   },
   "outputs": [],
   "source": [
    "loss_func = nn.BCEWithLogitsLoss()"
   ]
  },
  {
   "cell_type": "code",
   "execution_count": 22,
   "id": "olive-church",
   "metadata": {
    "execution": {
     "iopub.execute_input": "2021-06-26T10:57:25.616716Z",
     "iopub.status.busy": "2021-06-26T10:57:25.616078Z",
     "iopub.status.idle": "2021-06-26T10:57:30.176336Z",
     "shell.execute_reply": "2021-06-26T10:57:30.175827Z",
     "shell.execute_reply.started": "2021-06-26T08:16:11.877018Z"
    },
    "papermill": {
     "duration": 4.70242,
     "end_time": "2021-06-26T10:57:30.176475",
     "exception": false,
     "start_time": "2021-06-26T10:57:25.474055",
     "status": "completed"
    },
    "tags": []
   },
   "outputs": [],
   "source": [
    "learner = Learner(\n",
    "    databunch, \n",
    "    bert_model,\n",
    "    loss_func=loss_func,\n",
    "    model_dir='.', \n",
    "    metrics=fbeta, \n",
    "  )"
   ]
  },
  {
   "cell_type": "code",
   "execution_count": 23,
   "id": "sitting-pavilion",
   "metadata": {
    "execution": {
     "iopub.execute_input": "2021-06-26T10:57:30.452542Z",
     "iopub.status.busy": "2021-06-26T10:57:30.451637Z",
     "iopub.status.idle": "2021-06-26T11:50:50.361957Z",
     "shell.execute_reply": "2021-06-26T11:50:50.361149Z",
     "shell.execute_reply.started": "2021-06-26T08:16:20.033886Z"
    },
    "papermill": {
     "duration": 3200.053148,
     "end_time": "2021-06-26T11:50:50.362110",
     "exception": false,
     "start_time": "2021-06-26T10:57:30.308962",
     "status": "completed"
    },
    "tags": []
   },
   "outputs": [
    {
     "data": {
      "text/html": [
       "<table border=\"1\" class=\"dataframe\">\n",
       "  <thead>\n",
       "    <tr style=\"text-align: left;\">\n",
       "      <th>epoch</th>\n",
       "      <th>train_loss</th>\n",
       "      <th>valid_loss</th>\n",
       "      <th>fbeta</th>\n",
       "      <th>time</th>\n",
       "    </tr>\n",
       "  </thead>\n",
       "  <tbody>\n",
       "    <tr>\n",
       "      <td>0</td>\n",
       "      <td>0.063175</td>\n",
       "      <td>0.060098</td>\n",
       "      <td>0.541316</td>\n",
       "      <td>13:18</td>\n",
       "    </tr>\n",
       "    <tr>\n",
       "      <td>1</td>\n",
       "      <td>0.041701</td>\n",
       "      <td>0.041631</td>\n",
       "      <td>0.651638</td>\n",
       "      <td>13:24</td>\n",
       "    </tr>\n",
       "    <tr>\n",
       "      <td>2</td>\n",
       "      <td>0.033534</td>\n",
       "      <td>0.036965</td>\n",
       "      <td>0.716820</td>\n",
       "      <td>13:25</td>\n",
       "    </tr>\n",
       "    <tr>\n",
       "      <td>3</td>\n",
       "      <td>0.027195</td>\n",
       "      <td>0.035796</td>\n",
       "      <td>0.721046</td>\n",
       "      <td>13:11</td>\n",
       "    </tr>\n",
       "  </tbody>\n",
       "</table>"
      ],
      "text/plain": [
       "<IPython.core.display.HTML object>"
      ]
     },
     "metadata": {},
     "output_type": "display_data"
    }
   ],
   "source": [
    "learner.fit_one_cycle(epochs, max_lr=max_lr)"
   ]
  },
  {
   "cell_type": "code",
   "execution_count": 24,
   "id": "humanitarian-stable",
   "metadata": {
    "execution": {
     "iopub.execute_input": "2021-06-26T11:50:50.637322Z",
     "iopub.status.busy": "2021-06-26T11:50:50.635851Z",
     "iopub.status.idle": "2021-06-26T11:50:52.441226Z",
     "shell.execute_reply": "2021-06-26T11:50:52.441631Z",
     "shell.execute_reply.started": "2021-06-26T08:56:30.657975Z"
    },
    "papermill": {
     "duration": 1.945007,
     "end_time": "2021-06-26T11:50:52.441773",
     "exception": false,
     "start_time": "2021-06-26T11:50:50.496766",
     "status": "completed"
    },
    "tags": []
   },
   "outputs": [
    {
     "data": {
      "image/png": "[encoded data removed]",
      "text/plain": [
       "<Figure size 432x288 with 1 Axes>"
      ]
     },
     "metadata": {
      "needs_background": "light"
     },
     "output_type": "display_data"
    }
   ],
   "source": [
    "learner.save('model')\n",
    "\n",
    "learner.recorder.plot()"
   ]
  },
  {
   "cell_type": "code",
   "execution_count": 25,
   "id": "competent-loading",
   "metadata": {
    "execution": {
     "iopub.execute_input": "2021-06-26T11:50:52.715666Z",
     "iopub.status.busy": "2021-06-26T11:50:52.714936Z",
     "iopub.status.idle": "2021-06-26T11:50:52.717682Z",
     "shell.execute_reply": "2021-06-26T11:50:52.717279Z",
     "shell.execute_reply.started": "2021-06-26T08:56:32.512299Z"
    },
    "papermill": {
     "duration": 0.140725,
     "end_time": "2021-06-26T11:50:52.717792",
     "exception": false,
     "start_time": "2021-06-26T11:50:52.577067",
     "status": "completed"
    },
    "tags": []
   },
   "outputs": [],
   "source": [
    "def predict_tags(inp_txt):\n",
    "    print(\"\\nTags:\",learner.predict(inp_txt)[0],\"\\n\")"
   ]
  },
  {
   "cell_type": "code",
   "execution_count": 26,
   "id": "sound-valentine",
   "metadata": {
    "execution": {
     "iopub.execute_input": "2021-06-26T11:50:53.022817Z",
     "iopub.status.busy": "2021-06-26T11:50:53.022259Z",
     "iopub.status.idle": "2021-06-26T11:50:53.029098Z",
     "shell.execute_reply": "2021-06-26T11:50:53.029491Z",
     "shell.execute_reply.started": "2021-06-26T08:56:32.526429Z"
    },
    "papermill": {
     "duration": 0.176807,
     "end_time": "2021-06-26T11:50:53.029628",
     "exception": false,
     "start_time": "2021-06-26T11:50:52.852821",
     "status": "completed"
    },
    "tags": []
   },
   "outputs": [
    {
     "name": "stdout",
     "output_type": "stream",
     "text": [
      "business                   1316\n",
      "blockchain                 1002\n",
      "machine-learning            975\n",
      "education                   967\n",
      "data-science                953\n",
      "marketing                   879\n",
      "entrepreneurship            840\n",
      "bitcoin                     701\n",
      "artificial-intelligence     675\n",
      "history                     657\n",
      "web-development             561\n",
      "gaming                      335\n",
      "economics                   288\n",
      "google                      265\n",
      "computer-science            203\n",
      "apple                       202\n",
      "interview                   198\n",
      "cyber-security              191\n",
      "communication               189\n",
      "management                  164\n",
      "software                    147\n",
      "gitHub                      126\n",
      "literature                  123\n",
      "mathematics                 116\n",
      "git                         102\n",
      "cloud-computing              98\n",
      "internships                  82\n",
      "iot                          78\n",
      "mental-illness               71\n",
      "edge-computing               63\n",
      "physics                      61\n",
      "electrical                   58\n",
      "electronics                  56\n",
      "robotics                     52\n",
      "app-development              52\n",
      "stock-exchange               50\n",
      "graphic-design               49\n",
      "political-science            49\n",
      "reinforcement-learning       46\n",
      "vr                           41\n",
      "competitive-programming      40\n",
      "chemistry                    36\n",
      "placement                    34\n",
      "mechanical                   34\n",
      "linguistics                  26\n",
      "operating-systems            24\n",
      "engineering-design           18\n",
      "logic-design                  1\n",
      "Name: label, dtype: int64\n"
     ]
    }
   ],
   "source": [
    "print(data['label'].value_counts())"
   ]
  },
  {
   "cell_type": "code",
   "execution_count": 27,
   "id": "answering-greene",
   "metadata": {
    "execution": {
     "iopub.execute_input": "2021-06-26T11:50:53.349139Z",
     "iopub.status.busy": "2021-06-26T11:50:53.348395Z",
     "iopub.status.idle": "2021-06-26T11:51:00.658403Z",
     "shell.execute_reply": "2021-06-26T11:51:00.657965Z",
     "shell.execute_reply.started": "2021-06-26T08:56:32.548034Z"
    },
    "papermill": {
     "duration": 7.49304,
     "end_time": "2021-06-26T11:51:00.658527",
     "exception": false,
     "start_time": "2021-06-26T11:50:53.165487",
     "status": "completed"
    },
    "tags": []
   },
   "outputs": [
    {
     "name": "stderr",
     "output_type": "stream",
     "text": [
      "/opt/conda/lib/python3.7/site-packages/fastai/text/data.py:339: UserWarning: This overload of nonzero is deprecated:\n",
      "\tnonzero()\n",
      "Consider using one of the following signatures instead:\n",
      "\tnonzero(*, bool as_tuple) (Triggered internally at  /opt/conda/conda-bld/pytorch_1603729047590/work/torch/csrc/utils/python_arg_parser.cpp:882.)\n",
      "  idx_min = (t != self.pad_idx).nonzero().min()\n"
     ]
    },
    {
     "name": "stdout",
     "output_type": "stream",
     "text": [
      "interview                   interview\n",
      "history                   history\n",
      "business                   business\n",
      "cyber-security                   cyber-security\n",
      "                   software\n",
      "business                   business\n",
      "blockchain                   blockchain\n",
      "history                   history\n",
      "business                   business\n",
      "                   electrical\n",
      "google                   google\n",
      "bitcoin                   bitcoin\n",
      "marketing                   google\n",
      "marketing                   marketing\n",
      "history                   history\n",
      "artificial-intelligence                   data-science\n",
      "cyber-security                   cyber-security\n",
      "blockchain                   blockchain\n",
      "business                   business\n",
      "data-science                   education\n",
      "machine-learning                   machine-learning\n",
      "                   robotics\n",
      "gaming                   gaming\n",
      "economics                   economics\n",
      "computer-science                   competitive-programming\n",
      "web-development                   web-development\n",
      "history                   history\n",
      "business                   business\n",
      "entrepreneurship                   entrepreneurship\n",
      "marketing                   marketing\n",
      "history                   history\n",
      "history                   history\n",
      "machine-learning                   machine-learning\n",
      "business                   business\n",
      "data-science                   data-science\n",
      "blockchain                   blockchain\n",
      "computer-science                   computer-science\n",
      "data-science                   data-science\n",
      "google                   google\n",
      "machine-learning                   machine-learning\n",
      "entrepreneurship                   management\n",
      "web-development                   web-development\n",
      "history                   history\n",
      "blockchain                   blockchain\n",
      "                   electronics\n",
      "web-development                   machine-learning\n",
      "                   management\n",
      "education                   business\n",
      "                   artificial-intelligence\n",
      "data-science                   data-science\n",
      "economics                   economics\n",
      "artificial-intelligence                   artificial-intelligence\n",
      "entrepreneurship                   entrepreneurship\n",
      "education                   education\n",
      "bitcoin                   blockchain\n",
      "education                   education\n",
      "bitcoin                   bitcoin\n",
      "machine-learning                   iot\n",
      "machine-learning                   machine-learning\n",
      "entrepreneurship                   entrepreneurship\n",
      "data-science                   artificial-intelligence\n",
      "marketing                   mathematics\n",
      "entrepreneurship                   entrepreneurship\n",
      "blockchain                   blockchain\n",
      "entrepreneurship                   entrepreneurship\n",
      "                   business\n",
      "education                   education\n",
      "data-science                   data-science\n",
      "business                   business\n",
      "machine-learning                   machine-learning\n",
      "google                   google\n",
      "entrepreneurship                   entrepreneurship\n",
      "economics                   economics\n",
      "entrepreneurship                   entrepreneurship\n",
      "marketing                   marketing\n",
      "                   cloud-computing\n",
      "google                   web-development\n",
      "business                   business\n",
      "web-development                   web-development\n",
      "entrepreneurship                   entrepreneurship\n",
      "artificial-intelligence                   artificial-intelligence\n",
      "entrepreneurship                   entrepreneurship\n",
      "data-science                   data-science\n",
      "                   management\n",
      "economics                   economics\n",
      "machine-learning                   machine-learning\n",
      "machine-learning                   machine-learning\n",
      "history                   history\n",
      "git                   gitHub\n",
      "blockchain                   bitcoin\n",
      "machine-learning                   machine-learning\n",
      "web-development                   web-development\n",
      "web-development                   web-development\n",
      "                   cloud-computing\n",
      "history                   history\n",
      "                   literature\n",
      "web-development                   web-development\n",
      "data-science                   data-science\n",
      "marketing                   marketing\n",
      "mathematics                   physics\n"
     ]
    }
   ],
   "source": [
    "test_data=data.sample(100)\n",
    "sum=0\n",
    "for index, row in test_data.iterrows():\n",
    "    prediction=learner.predict(row['text'])[0]\n",
    "    print(prediction, \"                 \",row['label'])\n"
   ]
  }
 ],
 "metadata": {
  "kernelspec": {
   "display_name": "Python 3",
   "language": "python",
   "name": "python3"
  },
  "language_info": {
   "codemirror_mode": {
    "name": "ipython",
    "version": 3
   },
   "file_extension": ".py",
   "mimetype": "text/x-python",
   "name": "python",
   "nbconvert_exporter": "python",
   "pygments_lexer": "ipython3",
   "version": "3.7.10"
  },
  "papermill": {
   "default_parameters": {},
   "duration": 3660.820222,
   "end_time": "2021-06-26T11:51:03.592345",
   "environment_variables": {},
   "exception": null,
   "input_path": "__notebook__.ipynb",
   "output_path": "__notebook__.ipynb",
   "parameters": {},
   "start_time": "2021-06-26T10:50:02.772123",
   "version": "2.3.3"
  }
 },
 "nbformat": 4,
 "nbformat_minor": 5
}
